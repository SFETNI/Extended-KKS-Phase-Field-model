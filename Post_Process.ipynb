{
 "cells": [
  {
   "cell_type": "markdown",
   "metadata": {
    "toc": true
   },
   "source": [
    "<h1>Table of Contents<span class=\"tocSkip\"></span></h1>\n",
    "<div class=\"toc\"><ul class=\"toc-item\"><li><span><a href=\"#description\" data-toc-modified-id=\"description-1\"><span class=\"toc-item-num\">1&nbsp;&nbsp;</span>description</a></span></li><li><span><a href=\"#Import\" data-toc-modified-id=\"Import-2\"><span class=\"toc-item-num\">2&nbsp;&nbsp;</span>Import</a></span><ul class=\"toc-item\"><li><span><a href=\"#external-library\" data-toc-modified-id=\"external-library-2.1\"><span class=\"toc-item-num\">2.1&nbsp;&nbsp;</span>external library</a></span></li><li><span><a href=\"#my-function\" data-toc-modified-id=\"my-function-2.2\"><span class=\"toc-item-num\">2.2&nbsp;&nbsp;</span>my function</a></span></li></ul></li><li><span><a href=\"#input-for-the-code\" data-toc-modified-id=\"input-for-the-code-3\"><span class=\"toc-item-num\">3&nbsp;&nbsp;</span>input for the code</a></span><ul class=\"toc-item\"><li><span><a href=\"#load-the-microstructure\" data-toc-modified-id=\"load-the-microstructure-3.1\"><span class=\"toc-item-num\">3.1&nbsp;&nbsp;</span>load the microstructure</a></span></li></ul></li><li><span><a href=\"#run-the-code\" data-toc-modified-id=\"run-the-code-4\"><span class=\"toc-item-num\">4&nbsp;&nbsp;</span>run the code</a></span></li><li><span><a href=\"#save-results\" data-toc-modified-id=\"save-results-5\"><span class=\"toc-item-num\">5&nbsp;&nbsp;</span>save results</a></span></li><li><span><a href=\"#load-the-results\" data-toc-modified-id=\"load-the-results-6\"><span class=\"toc-item-num\">6&nbsp;&nbsp;</span>load the results</a></span></li></ul></div>"
   ]
  },
  {
   "cell_type": "markdown",
   "metadata": {},
   "source": [
    "# Phase-field model for growth and coarsening of Si precipitate in AlSi10Mg SLM in a super-saturated matrix\n",
    "This model is based on the Kim-Kim-Suzuki model [1]\n",
    "References:\n",
    "\n",
    "\n",
    "[1] Kim, Kim, and Suzuki. \"Phase-field model for binary alloys.\" Physical Review E 60:6;7186-7197 (1999).\n"
   ]
  },
  {
   "cell_type": "markdown",
   "metadata": {},
   "source": [
    "# Import"
   ]
  },
  {
   "cell_type": "markdown",
   "metadata": {},
   "source": [
    "## external library"
   ]
  },
  {
   "cell_type": "code",
   "execution_count": 4,
   "metadata": {},
   "outputs": [],
   "source": [
    "import os\n",
    "import numpy as np\n",
    "import importlib\n",
    "import collections\n",
    "from os import chdir\n",
    "from scipy.interpolate import UnivariateSpline #pour ma spline\n",
    "import sys\n",
    "import random\n",
    "import importlib\n",
    "from scipy.interpolate import splev, splrep\n",
    "from itertools import cycle\n",
    "import pyFi_adapt\n",
    "importlib.reload(pyFi_adapt)\n",
    "from pyFi_adapt import *\n",
    "import pyvista as pv\n",
    "import matplotlib.pyplot as plt\n"
   ]
  },
  {
   "cell_type": "markdown",
   "metadata": {},
   "source": [
    "## Post_process"
   ]
  },
  {
   "cell_type": "code",
   "execution_count": 2,
   "metadata": {},
   "outputs": [],
   "source": [
    "def plot_micro(output,title,Nx,Ny,dx,dy,key):\n",
    "    import matplotlib.pyplot as plt \n",
    "    import matplotlib.transforms as tfrms\n",
    "    x_max=Nx*dx\n",
    "    y_max=Ny*dy\n",
    "    out=output.reshape(output.shape[0],output.shape[1]).transpose()\n",
    "    if (key=='eta'):\n",
    "        vmax=1\n",
    "    else:\n",
    "        vmax=0.025\n",
    "    vmin=0\n",
    "    plt.imshow(out ,extent=[0,x_max,y_max,0],vmin=vmin, vmax=vmax) #cmap='RdBu'\n",
    "    plt.colorbar()\n",
    "    ax = plt.gca()\n",
    "    trans = tfrms.blended_transform_factory( ax.transData, ax.transAxes )\n",
    "    plt.errorbar( 0, 0.0, color='k', capsize=1, transform=trans )\n",
    "    ax.set_xlabel('x [nm]') \n",
    "    ax.set_ylabel('y [nm]') \n",
    "    plt.title(title)\n",
    "    #plt.show()\n",
    "    plt.savefig(os.path.join('save_fig',title))\n",
    "    plt.close()"
   ]
  },
  {
   "cell_type": "code",
   "execution_count": 29,
   "metadata": {},
   "outputs": [
    {
     "data": {
      "text/plain": [
       "'\\nSave_path =os.path.join(os.getcwd(),\\'saved_maps\\') \\nfile_name=\"map650.80s_400_600.07K.npz\"\\ndout=dict(np.load(os.path.join(Save_path, file_name)))\\ndout.keys()\\n'"
      ]
     },
     "execution_count": 29,
     "metadata": {},
     "output_type": "execute_result"
    }
   ],
   "source": [
    "\"\"\"\n",
    "Save_path =os.path.join(os.getcwd(),'saved_maps') \n",
    "file_name=\"map650.80s_400_600.07K.npz\"\n",
    "dout=dict(np.load(os.path.join(Save_path, file_name)))\n",
    "dout.keys()\n",
    "\"\"\""
   ]
  },
  {
   "cell_type": "code",
   "execution_count": 5,
   "metadata": {},
   "outputs": [
    {
     "name": "stdout",
     "output_type": "stream",
     "text": [
      "['400', '424', '449', '458', '466', '474', '483', '491', '499', '507', '516', '524', '532', '541', '549', '557', '566', '574', '589', '610', '638', '669', '678', '683', '690', '693', '694', '699', '699', '700', '700', '702', '703', '706', '713', '719']\n",
      "['map0.25s_400_400.00K.npz', 'map75.00s_400_424.92K.npz', 'map149.75s_400_449.83K.npz', 'map174.66s_400_458.14K.npz', 'map199.58s_400_466.44K.npz', 'map224.50s_400_474.75K.npz', 'map249.41s_400_483.06K.npz', 'map274.33s_400_491.36K.npz', 'map299.25s_400_499.67K.npz', 'map324.17s_400_507.97K.npz', 'map349.08s_400_516.28K.npz', 'map374.00s_400_524.58K.npz', 'map398.92s_400_532.89K.npz', 'map423.83s_400_541.20K.npz', 'map448.75s_400_549.50K.npz', 'map473.67s_400_557.81K.npz', 'map498.58s_400_566.11K.npz', 'map523.50s_400_574.42K.npz', 'map570.62s_400_589.52K.npz', 'map760.33s_400_610.24K.npz', 'map1140.99s_400_638.15K.npz', 'map2090.79s_400_669.20K.npz', 'map2662.40s_400_678.94K.npz', 'map3043.31s_400_683.52K.npz', 'map3612.44s_400_690.19K.npz', 'map3802.40s_400_693.02K.npz', 'map3992.86s_400_694.89K.npz', 'map4375.24s_400_699.12K.npz', 'map4564.96s_400_699.70K.npz', 'map4754.92s_400_700.29K.npz', 'map4944.63s_400_700.87K.npz', 'map5324.06s_400_702.21K.npz', 'map5515.00s_400_703.32K.npz', 'map5894.68s_400_706.30K.npz', 'map6653.78s_400_713.42K.npz', 'map7413.37s_400_719.00K.npz']\n"
     ]
    }
   ],
   "source": [
    "from operator import itemgetter\n",
    "Save_path =os.path.join(os.getcwd(),'saved_maps_Big_grid') # _Big_grid\n",
    "array_filenames=[]\n",
    "array_Temp=[]\n",
    "for filename in os.listdir(Save_path):\n",
    "    array_filenames.append(filename)\n",
    "    array_Temp.append(filename[-11:-8])\n",
    "array_index=sorted(range(len(array_Temp)), key=lambda k: array_Temp[k])\n",
    "array_Temp.sort(key = int)\n",
    "array_filenames.sort()\n",
    "print(array_Temp)\n",
    "\n",
    "\n",
    "array_filenames_sorted=[]\n",
    "for i in range(len(array_filenames)):\n",
    "    array_filenames_sorted.append(array_filenames[array_index[i]])\n",
    "array_filenames=array_filenames_sorted    \n",
    "print(array_filenames)\n"
   ]
  },
  {
   "cell_type": "code",
   "execution_count": 6,
   "metadata": {},
   "outputs": [
    {
     "name": "stdout",
     "output_type": "stream",
     "text": [
      "400.0 719.0041600368456\n"
     ]
    }
   ],
   "source": [
    "array_dict=[]\n",
    "\n",
    "for i in range(len(array_Temp)):\n",
    "    file_name=array_filenames[i]\n",
    "    temp=array_Temp\n",
    "    str='dout_'+array_Temp[i]\n",
    "    globals()[str]=dict(np.load(os.path.join(Save_path, file_name)))\n",
    "    array_dict.append(globals()[str])\n",
    "\n",
    "print(array_dict[0]['T_out'].max(),array_dict[-1]['T_out'].max()) #check step"
   ]
  },
  {
   "cell_type": "code",
   "execution_count": 7,
   "metadata": {},
   "outputs": [],
   "source": [
    "eta_out=array_dict[-1]['eta']\n",
    "X_out=array_dict[-1]['X']\n",
    "Nx = eta_out.shape[0]\n",
    "Ny = eta_out.shape[1]\n",
    "Nz =1  \n",
    "dx=  0.5*1e-9 # [m]\n",
    "dy= 1*dx      # [m]\n",
    "dz= dx # [m]"
   ]
  },
  {
   "cell_type": "code",
   "execution_count": null,
   "metadata": {},
   "outputs": [],
   "source": [
    "key='X'\n",
    "for i in range(len(array_Temp)):\n",
    "    Var=array_dict[i][key]\n",
    "    title=key+'$_{Si}$ at '+array_Temp[i]+' K'\n",
    "    plot_micro(Var,title,Nx,Ny,dx,dy,key)\n",
    "\n",
    "    "
   ]
  },
  {
   "cell_type": "markdown",
   "metadata": {},
   "source": [
    "### Cell for maximum temperature"
   ]
  },
  {
   "cell_type": "code",
   "execution_count": null,
   "metadata": {},
   "outputs": [],
   "source": [
    "key='X'\n",
    "for i in range(len(array_dict)):\n",
    "    eta_out=array_dict[i]['eta']\n",
    "    X_out=array_dict[i]['X']\n",
    "    # plot microstructure\n",
    "\n",
    "    # grid2 : visualize eta variable\n",
    "    grid2 = pv.UniformGrid()\n",
    "    grid2.spacing=np.array([dx,dx,dx])*1E9\n",
    "    grid2.dimensions = np.array([Nx,Ny,Nz])#+1\n",
    "    grid2.point_data['X$_{Si}$'] = np.transpose(np.resize(eta_out,[Nx,Ny,Nz])).flatten()  # Flatten the array!\n",
    "\n",
    "    # grid : visualize X variable\n",
    "    grid  = pv.UniformGrid()\n",
    "    grid.spacing=np.array([dx,dx,dx])*1E9\n",
    "    grid.dimensions = np.array([Nx,Ny,Nz])#+1\n",
    "    grid.point_data[\"Si [mol. %]\"] = np.transpose(np.resize(X_out*100,[Nx,Ny,Nz])).flatten()\n",
    "\n",
    "\n",
    "    pv.set_plot_theme(\"document\")           # = theme\n",
    "    cmap = plt.cm.get_cmap(\"coolwarm\", 250) # = color map \n",
    "\n",
    "    # contours for eta variable = 0.1 and 0.9\n",
    "    contours = grid2.contour(isosurfaces=2,rng=([0.1,0.9])) #[0.5, 1]\n",
    "\n",
    "    outline = grid.outline()\n",
    "\n",
    "    sargs = dict(height=0.5, vertical=True, position_x=0.8, position_y=0.25,label_font_size=12,font_family=\"arial\")  #title='X_Si [mol. %]'\n",
    "    #sargs = dict(interactive=True)\n",
    "\n",
    "    p = pv.Plotter(off_screen=True) #notebook=False\n",
    "\n",
    "\n",
    "    p.add_mesh(outline, color=\"k\")\n",
    "\n",
    "    p.camera_position =  'xy'\n",
    "    p.update_scalar_bar_range([0,2.5], name=None)\n",
    "    p.add_mesh(grid,cmap='rainbow' ,show_scalar_bar=True,scalar_bar_args=sargs, opacity=0.9,clim=[0,2.5])#)#,\n",
    "    p.add_mesh(contours,cmap=cmap,  color=\"y\") #color=\"black\",,clim=[1.,1.]\n",
    "\n",
    "    p.show_bounds(all_edges=True,xlabel=\"x [nm]\",ylabel=\"y [nm]\",zlabel=\"z [nm]\")\n",
    "\n",
    "    title=key+'r\"_{Si}$\" at '+array_Temp[i]+' K'\n",
    "\n",
    "    p.add_text(array_Temp[i]+' K',  position=(0.45,0.65), color='y', shadow=True, font_size=16, viewport='True')\n",
    "    #p.add_title(title)\n",
    "    p.screenshot(\"X_Si\"+array_Temp[i]+'_K'+\".png\")  #jupyter_backend='None'\n",
    "    #pv.plotting._ALL_PLOTTERS.clear()"
   ]
  },
  {
   "cell_type": "markdown",
   "metadata": {},
   "source": [
    "### Si, eta, Surf "
   ]
  },
  {
   "cell_type": "code",
   "execution_count": 8,
   "metadata": {},
   "outputs": [
    {
     "data": {
      "text/plain": [
       "dict_keys(['ttime', 'time_out', 'T_out', 'X_al_mean_out', 'X_th_mean_out', 'eta_mean_out', 'surf_out', 'X', 'X_al', 'X_th', 'eta', 'xv_out'])"
      ]
     },
     "execution_count": 8,
     "metadata": {},
     "output_type": "execute_result"
    }
   ],
   "source": [
    "Save_path =os.path.join(os.getcwd()) \n",
    "dout=dict(np.load(os.path.join(Save_path,\"map4754.92s_400_700.29K.npz\")))  #map3612.44s_400_690.19K.npz\n",
    "dout.keys()"
   ]
  },
  {
   "cell_type": "code",
   "execution_count": 9,
   "metadata": {},
   "outputs": [],
   "source": [
    "T = dout[\"T_out\"]\n",
    "t = dout[\"time_out\"]\n",
    "eta = dout[\"eta_mean_out\"]\n",
    "X_al = dout[\"X_al_mean_out\"]\n",
    "surf = dout[\"surf_out\"]\n",
    "xv_out = dout[\"xv_out\"]"
   ]
  },
  {
   "cell_type": "code",
   "execution_count": 10,
   "metadata": {},
   "outputs": [],
   "source": [
    "dout[\"T_mean\"]=dout[\"T_out\"]\n",
    "dout[\"eta_mean\"]=dout[\"eta_mean_out\"]\n",
    "dout[\"t_mean\"]=dout[\"time_out\"]"
   ]
  },
  {
   "cell_type": "code",
   "execution_count": 11,
   "metadata": {},
   "outputs": [],
   "source": [
    "index=0\n",
    "N=75   # fitting parameter \n",
    "m=1\n",
    "T=T[index:-1][0:-m:N]\n",
    "t=t[index:-1][0:-m:N]\n",
    "eta=eta[index:-1][0:-m:N]\n",
    "X_al =X_al[index:-1][0:-m:N]\n",
    "surf=surf[index:-1][0:-m:N]\n",
    "xv_out=xv_out[index:-1][0:-m:N]\n",
    "dout[\"T_mean\"]=dout[\"T_mean\"][index:-1][0:-m:N]\n",
    "dout[\"eta_mean\"]=dout[\"eta_mean\"][index:-m][0:-1:N]\n",
    "dout[\"t_mean\"]=dout[\"t_mean\"][index:-1][:-m:N]"
   ]
  },
  {
   "cell_type": "code",
   "execution_count": 12,
   "metadata": {},
   "outputs": [
    {
     "data": {
      "text/plain": [
       "(257, 257, 257, 257, 257)"
      ]
     },
     "execution_count": 12,
     "metadata": {},
     "output_type": "execute_result"
    }
   ],
   "source": [
    "len(t),len(T),len(X_al),len(eta),len(xv_out)"
   ]
  },
  {
   "cell_type": "code",
   "execution_count": 13,
   "metadata": {},
   "outputs": [],
   "source": [
    "n=len(X_al[X_al>0.025])\n",
    "X_al[X_al>0.025] = 0.025+ np.arange(1,0.001,-1/(n))*1e-4  # for a smooth fitting\n",
    "t_X_al_mod = t\n",
    "X_al_mod=X_al"
   ]
  },
  {
   "cell_type": "code",
   "execution_count": 15,
   "metadata": {},
   "outputs": [
    {
     "data": {
      "text/plain": [
       "Text(0, 0.5, '$\\\\langle X_{Si}^{\\\\alpha}\\\\rangle ~\\\\left[mol. \\\\% \\\\right] $')"
      ]
     },
     "execution_count": 15,
     "metadata": {},
     "output_type": "execute_result"
    },
    {
     "data": {
      "image/png": "[encoded data removed]",
      "text/plain": [
       "<Figure size 432x288 with 1 Axes>"
      ]
     },
     "metadata": {
      "needs_background": "light"
     },
     "output_type": "display_data"
    }
   ],
   "source": [
    "X_al_s=UnivariateSpline(x=t_X_al_mod, \n",
    "                       y=X_al_mod, \n",
    "                       w=None, bbox=[None, None], k=3, s=2.8e-8, \n",
    "                       ext=0, check_finite=False)\n",
    "\n",
    "#plt.plot(t*(1/3)+400,X_al,color=\"b\",label=\"brut\")\n",
    " \n",
    "#plt.plot(t_X_al_mod*(1/3)+400,X_al_mod,color=\"g\",label=\"brut modfi\")\n",
    "plt.plot(T,X_al_s(t)*100,label=\"spline\")\n",
    "plt.axvline(x = 507,ymin=0, ymax=0.78, color = 'b',linestyle='dashed')\n",
    "plt.text(509,1,'TOI1',)\n",
    "plt.axvline(x = 541,ymin=0, ymax=0.2, color = 'b',linestyle='dashed')\n",
    "plt.text(544,0.51,'TOI2',)\n",
    "plt.axvline(x = 610,ymin=0, ymax=0.07, color = 'b',linestyle='dashed')\n",
    "plt.text(610.1,0.26,'TOI3',)\n",
    "plt.axvline(x = 700,ymin=0, ymax=0.19, color = 'b',linestyle='dashed')\n",
    "plt.text(690,0.55,'TOI4',)\n",
    "\n",
    "plt.xlabel(\"T [K]\")\n",
    "plt.ylabel(r\"$\\langle X_{Si}^{\\alpha}\\rangle ~\\left[mol. \\% \\right] $\")"
   ]
  },
  {
   "cell_type": "code",
   "execution_count": 16,
   "metadata": {},
   "outputs": [
    {
     "name": "stderr",
     "output_type": "stream",
     "text": [
      "No artists with labels found to put in legend.  Note that artists whose label start with an underscore are ignored when legend() is called with no argument.\n"
     ]
    },
    {
     "data": {
      "text/plain": [
       "<matplotlib.legend.Legend at 0x275bd9d2290>"
      ]
     },
     "execution_count": 16,
     "metadata": {},
     "output_type": "execute_result"
    },
    {
     "data": {
      "image/png": "[encoded data removed]",
      "text/plain": [
       "<Figure size 432x288 with 1 Axes>"
      ]
     },
     "metadata": {
      "needs_background": "light"
     },
     "output_type": "display_data"
    }
   ],
   "source": [
    "eta_s=UnivariateSpline(x=t, \n",
    "                       y=eta, \n",
    "                       w=None, bbox=[None, None], k=3, s=5.6e-8, \n",
    "                       ext=0, check_finite=False)\n",
    "\n",
    "\n",
    "plt.plot(T,eta_s(t),color=\"r\")\n",
    "plt.axvline(x = 507,ymin=0, ymax=0.15, color = 'b',linestyle='dashed')\n",
    "plt.text(490,0.087,'TOI1')\n",
    "plt.axvline(x = 541,ymin=0, ymax=0.74, color = 'b',linestyle='dashed')\n",
    "plt.text(544,0.1,'TOI2')\n",
    "plt.axvline(x = 610,ymin=0, ymax=0.92, color = 'b',linestyle='dashed')\n",
    "plt.text(612,0.1025,'TOI3')\n",
    "plt.axvline(x = 700,ymin=0, ymax=0.81, color = 'b',linestyle='dashed')\n",
    "plt.text(675,0.1,'TOI4')\n",
    "plt.xlabel(\"T [K]\")\n",
    "plt.ylabel(r\"$\\langle \\eta \\rangle ~\\left[vol. \\% \\right] $\")\n",
    "\n",
    "plt.legend()"
   ]
  },
  {
   "cell_type": "code",
   "execution_count": 18,
   "metadata": {},
   "outputs": [],
   "source": [
    "t_surf_mod = t[t>0]\n",
    "surf_mod=surf[t>0]"
   ]
  },
  {
   "cell_type": "code",
   "execution_count": 19,
   "metadata": {},
   "outputs": [
    {
     "name": "stderr",
     "output_type": "stream",
     "text": [
      "No artists with labels found to put in legend.  Note that artists whose label start with an underscore are ignored when legend() is called with no argument.\n"
     ]
    },
    {
     "data": {
      "text/plain": [
       "<matplotlib.legend.Legend at 0x275bd9a61a0>"
      ]
     },
     "execution_count": 19,
     "metadata": {},
     "output_type": "execute_result"
    },
    {
     "data": {
      "image/png": "[encoded data removed]",
      "text/plain": [
       "<Figure size 432x288 with 1 Axes>"
      ]
     },
     "metadata": {
      "needs_background": "light"
     },
     "output_type": "display_data"
    }
   ],
   "source": [
    "surf_mod2 =  surf_mod# np.hstack(( 0.4e-6,0.5e-6, surf_mod))\n",
    "t_surf_mod2 =t_surf_mod #np.hstack(( 0,75, t_surf_mod))\n",
    "\n",
    "surf_s=UnivariateSpline(x=t_surf_mod2 , \n",
    "                        y=surf_mod2 , \n",
    "                        w=None, bbox=[None, None], k=3, s=1.1e-12,  # s: fitting parameter \n",
    "                        ext=0, check_finite=False)\n",
    "\n",
    "\n",
    "\n",
    "\n",
    "dsurf_dt_s  = surf_s.derivative(n=1)(t)\n",
    "\n",
    "\n",
    "#plt.plot(t,surf)\n",
    "plt.plot(T,surf_s(t),color=\"g\")\n",
    "plt.axvline(x = 507,ymin=0, ymax=0.25, color = 'b',linestyle='dashed')\n",
    "plt.text(480,0.2e-5,'TOI1')\n",
    "plt.axvline(x = 541,ymin=0, ymax=0.74, color = 'b',linestyle='dashed')\n",
    "plt.text(544,0.8e-5,'TOI2')\n",
    "plt.axvline(x = 610,ymin=0, ymax=0.8, color = 'b',linestyle='dashed')\n",
    "plt.text(615,0.81e-5,'TOI3')\n",
    "plt.axvline(x = 700,ymin=0, ymax=0.4, color = 'b',linestyle='dashed')\n",
    "plt.text(675,0.3e-5,'TOI4')\n",
    "\n",
    "plt.xlabel(\"T [K]\")\n",
    "plt.ylabel(r\"$Specific~surface~\\left[m^2. g^{-1}\\right]$\")\n",
    "\n",
    "plt.legend()"
   ]
  },
  {
   "cell_type": "code",
   "execution_count": 33,
   "metadata": {},
   "outputs": [
    {
     "data": {
      "text/plain": [
       "Text(0, 0.5, 'Vacancy site fraction [--]')"
      ]
     },
     "execution_count": 33,
     "metadata": {},
     "output_type": "execute_result"
    },
    {
     "data": {
      "image/png": "[encoded data removed]",
      "text/plain": [
       "<Figure size 432x288 with 1 Axes>"
      ]
     },
     "metadata": {
      "needs_background": "light"
     },
     "output_type": "display_data"
    }
   ],
   "source": [
    "import matplotlib.ticker as mtick\n",
    "fig = plt.figure()\n",
    "\n",
    "ax = fig.add_subplot(111)\n",
    "\n",
    "xv_out_s=UnivariateSpline(x=T , \n",
    "                        y=xv_out , \n",
    "                        w=None, bbox=[None, None], k=3, s=1.1e-12,  # s: fitting parameter \n",
    "                        ext=0, check_finite=False)\n",
    "\n",
    "\n",
    "\n",
    "\n",
    "plt.plot(T,xv_out_s(t),color=\"black\")\n",
    "plt.axvline(x = 507,ymin=0, ymax=0.1, color = 'b',linestyle='dashed')\n",
    "plt.text(500,0.3e-3,'TOI1')\n",
    "plt.axvline(x = 541,ymin=0, ymax=0.09, color = 'b',linestyle='dashed')\n",
    "plt.text(544,0.3e-3,'TOI2')\n",
    "plt.axvline(x = 610,ymin=0, ymax=0.06, color = 'b',linestyle='dashed')\n",
    "plt.text(615,0.3e-3,'TOI3')\n",
    "plt.axvline(x = 700,ymin=0, ymax=0.1, color = 'b',linestyle='dashed')\n",
    "plt.text(675,0.3e-3,'TOI4')\n",
    "ax.yaxis.set_major_formatter(mtick.FormatStrFormatter('%.1e'))\n",
    "plt.xlabel(\"T [K]\")\n",
    "plt.ylabel(r\"Vacancy site fraction [--]\")\n"
   ]
  }
 ],
 "metadata": {
  "kernelspec": {
   "display_name": "Python 3.10.6 64-bit",
   "language": "python",
   "name": "python3"
  },
  "language_info": {
   "codemirror_mode": {
    "name": "ipython",
    "version": 3
   },
   "file_extension": ".py",
   "mimetype": "text/x-python",
   "name": "python",
   "nbconvert_exporter": "python",
   "pygments_lexer": "ipython3",
   "version": "3.10.6 (tags/v3.10.6:9c7b4bd, Aug  1 2022, 21:53:49) [MSC v.1932 64 bit (AMD64)]"
  },
  "metadata": {
   "interpreter": {
    "hash": "511c88b1eba2cbe5a3268c2cf91746daff4746859a1594456bee85139ab7b14a"
   }
  },
  "toc": {
   "base_numbering": 1,
   "nav_menu": {},
   "number_sections": true,
   "sideBar": true,
   "skip_h1_title": false,
   "title_cell": "Table of Contents",
   "title_sidebar": "Contents",
   "toc_cell": true,
   "toc_position": {
    "height": "calc(100% - 180px)",
    "left": "10px",
    "top": "150px",
    "width": "165px"
   },
   "toc_section_display": true,
   "toc_window_display": true
  },
  "vscode": {
   "interpreter": {
    "hash": "004a46801fa8ecbc77cf41b8f6fc97ff1cc069d15e971a82f8bbf012de69fce7"
   }
  }
 },
 "nbformat": 4,
 "nbformat_minor": 2
}
